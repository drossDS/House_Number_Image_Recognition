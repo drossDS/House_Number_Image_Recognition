{
  "nbformat": 4,
  "nbformat_minor": 0,
  "metadata": {
    "accelerator": "GPU",
    "colab": {
      "name": "CNN_Project_Learner_Notebook_SVHN_Rossetti_PORTFOLIO.ipynb",
      "provenance": [],
      "collapsed_sections": []
    },
    "kernelspec": {
      "display_name": "Python 3",
      "language": "python",
      "name": "python3"
    },
    "language_info": {
      "codemirror_mode": {
        "name": "ipython",
        "version": 3
      },
      "file_extension": ".py",
      "mimetype": "text/x-python",
      "name": "python",
      "nbconvert_exporter": "python",
      "pygments_lexer": "ipython3",
      "version": "3.8.3"
    }
  },
  "cells": [
    {
      "cell_type": "markdown",
      "metadata": {
        "id": "Q91KqmCRu64D"
      },
      "source": [
        "# **Project - Convolutional Neural Networks: Street View Housing Number Digit Recognition**\n",
        "\n",
        "# Marks: 30\n",
        "\n",
        "Welcome to the project on classification using Convolutional Neural Networks. We will continue to work with the Street View Housing Numbers (SVHN) image dataset for this project.\n",
        "\n",
        "--------------\n",
        "### **Context:** \n",
        "--------------\n",
        "\n",
        "One of the most interesting tasks in deep learning is to recognize objects in natural scenes. The ability to process visual information using machine learning algorithms can be very useful as demonstrated in various applications.\n",
        "\n",
        "The SVHN dataset contains over 600,000 labeled digits cropped from street level photos. It is one of the most popular image recognition datasets. It has been used in neural networks created by Google to improve map quality by automatically transcribing the address numbers from a patch of pixels. The transcribed number with a known street address helps pinpoint the location of the building it represents. \n",
        "\n",
        "----------------\n",
        "### **Objective:**\n",
        "----------------\n",
        "\n",
        "Build a CNN model that can identify the digits in the images.\n",
        "\n",
        "-------------\n",
        "### **Dataset**\n",
        "-------------\n",
        "Here, we will use a subset of the original data to save some computation time. The dataset is provided as a .h5 file. The basic preprocessing steps have been done."
      ]
    },
    {
      "cell_type": "markdown",
      "metadata": {
        "id": "8z2Z7-OAs8QG"
      },
      "source": [
        "## **Mount the drive**\n",
        "Let us start by mounting the drive and importing the necessary libraries."
      ]
    },
    {
      "cell_type": "code",
      "metadata": {
        "colab": {
          "base_uri": "https://localhost:8080/"
        },
        "id": "03lDyQUuef7z",
        "outputId": "6a7542b9-e96b-4096-8263-e97c66650d96"
      },
      "source": [
        "from google.colab import drive\n",
        "drive.mount('/content/drive')"
      ],
      "execution_count": 60,
      "outputs": [
        {
          "output_type": "stream",
          "name": "stdout",
          "text": [
            "Drive already mounted at /content/drive; to attempt to forcibly remount, call drive.mount(\"/content/drive\", force_remount=True).\n"
          ]
        }
      ]
    },
    {
      "cell_type": "markdown",
      "metadata": {
        "id": "C8U3DUa3eNsT"
      },
      "source": [
        "## **Importing libraries**"
      ]
    },
    {
      "cell_type": "code",
      "metadata": {
        "id": "-dVzeuF3eQx1"
      },
      "source": [
        "import numpy as np\n",
        "import pandas as pd\n",
        "import matplotlib.pyplot as plt\n",
        "import seaborn as sns\n",
        "\n",
        "from sklearn.model_selection import train_test_split\n",
        "from sklearn.preprocessing import MinMaxScaler\n",
        "\n",
        "import tensorflow as tf\n",
        "from tensorflow.keras.models import Sequential\n",
        "from tensorflow.keras.layers import Dense, Conv2D, MaxPool2D, BatchNormalization, Dropout, Flatten, LeakyReLU\n",
        "from tensorflow.keras.utils import to_categorical"
      ],
      "execution_count": 61,
      "outputs": []
    },
    {
      "cell_type": "markdown",
      "metadata": {
        "id": "ucnevGLoyKf_"
      },
      "source": [
        "Let us check for the version of TensorFlow."
      ]
    },
    {
      "cell_type": "code",
      "metadata": {
        "colab": {
          "base_uri": "https://localhost:8080/"
        },
        "id": "W5as47YxyJVk",
        "outputId": "7b1a1c25-5914-4588-a721-2c6d706d3818"
      },
      "source": [
        "print(tf.__version__)"
      ],
      "execution_count": 62,
      "outputs": [
        {
          "output_type": "stream",
          "name": "stdout",
          "text": [
            "2.8.0\n"
          ]
        }
      ]
    },
    {
      "cell_type": "markdown",
      "metadata": {
        "id": "8lsux2ZwyTTR"
      },
      "source": [
        "## **Load the dataset**\n",
        "- Let us now load the dataset that is available as a .h5 file.\n",
        "- Split the data into train and the test dataset"
      ]
    },
    {
      "cell_type": "code",
      "metadata": {
        "id": "BApX9qgNsqV0",
        "scrolled": true
      },
      "source": [
        "import h5py\n",
        "\n",
        "# Open the file as read only\n",
        "# User can make changes in the path as required\n",
        "h5f = h5py.File('/content/drive/MyDrive/SVHN_single_grey1.h5', 'r')\n",
        "\n",
        "# Load the training and the test set\n",
        "X_train = h5f['X_train'][:]\n",
        "y_train = h5f['y_train'][:]\n",
        "X_test = h5f['X_test'][:]\n",
        "y_test = h5f['y_test'][:]\n",
        "\n",
        "\n",
        "# Close this file\n",
        "h5f.close()"
      ],
      "execution_count": 63,
      "outputs": []
    },
    {
      "cell_type": "markdown",
      "metadata": {
        "id": "hVe0CYpUgj7w"
      },
      "source": [
        "Let's check the number of images in the training and testing data."
      ]
    },
    {
      "cell_type": "code",
      "metadata": {
        "colab": {
          "base_uri": "https://localhost:8080/"
        },
        "id": "y3lwKpOefkpA",
        "outputId": "57682464-1b87-432e-c525-d377cef57e00"
      },
      "source": [
        "len(X_train), len(X_test)"
      ],
      "execution_count": 64,
      "outputs": [
        {
          "output_type": "execute_result",
          "data": {
            "text/plain": [
              "(42000, 18000)"
            ]
          },
          "metadata": {},
          "execution_count": 64
        }
      ]
    },
    {
      "cell_type": "markdown",
      "metadata": {
        "id": "akTUOfLlgwoM"
      },
      "source": [
        "- There are 42,000 images in the training data and 18,000 images in the testing data. "
      ]
    },
    {
      "cell_type": "markdown",
      "metadata": {
        "id": "kxODV6HKykuc"
      },
      "source": [
        "## **Visualizing images**\n",
        "- Use X_train to visualize the first 10 images\n",
        "- Use Y_train to print the first 10 labels"
      ]
    },
    {
      "cell_type": "markdown",
      "metadata": {
        "id": "Rn5IZYv-e2TC"
      },
      "source": [
        "#### **Question 1: Complete the below code to visualize the first 10 images from the training data (1 Mark)**"
      ]
    },
    {
      "cell_type": "code",
      "metadata": {
        "colab": {
          "base_uri": "https://localhost:8080/",
          "height": 95
        },
        "id": "Bvsc8ytHsqWD",
        "outputId": "90ea0e1d-05e2-496f-8613-4c72ea15060c"
      },
      "source": [
        "# visualizing the first 10 images in the dataset and their labels\n",
        "plt.figure(figsize=(10, 1))\n",
        "\n",
        "for i in range(10):\n",
        "    plt.subplot(1, 10, i+1)\n",
        "    plt.imshow(X_train[i], cmap=\"gray\") # write the function to visualize images\n",
        "    plt.axis('off')\n",
        "\n",
        "plt.show()\n",
        "print('label for each of the above image: %s' % (y_train[0:10]))"
      ],
      "execution_count": 65,
      "outputs": [
        {
          "output_type": "display_data",
          "data": {
            "image/png": "[encoded data removed]",
            "text/plain": [
              "<Figure size 720x72 with 10 Axes>"
            ]
          },
          "metadata": {
            "needs_background": "light"
          }
        },
        {
          "output_type": "stream",
          "name": "stdout",
          "text": [
            "label for each of the above image: [2 6 7 4 4 0 3 0 7 3]\n"
          ]
        }
      ]
    },
    {
      "cell_type": "markdown",
      "metadata": {
        "id": "kzoyeXHOy80N"
      },
      "source": [
        "## **Data Preparation**\n",
        "\n",
        "- Print the first image in the train image and figure out the shape of the images\n",
        "- Reshape the train and the test dataset to make them fit the first convolutional operation that we will create later. Figure out the required shape\n",
        "- Normalize the train and the test dataset by dividing by 255\n",
        "- Print the new shapes of the train and the test set\n",
        "- One-hot encode the target variable"
      ]
    },
    {
      "cell_type": "code",
      "metadata": {
        "colab": {
          "base_uri": "https://localhost:8080/"
        },
        "id": "NqndzQXng9rL",
        "outputId": "085c3987-0fd7-498f-f233-5d49637ccd1a"
      },
      "source": [
        "# Shape of the images and the first image\n",
        "\n",
        "print(\"Shape:\", X_train[0].shape)\n",
        "print()\n",
        "print(\"First image:\\n\", X_train[0])"
      ],
      "execution_count": 66,
      "outputs": [
        {
          "output_type": "stream",
          "name": "stdout",
          "text": [
            "Shape: (32, 32)\n",
            "\n",
            "First image:\n",
            " [[ 33.0704  30.2601  26.852  ...  71.4471  58.2204  42.9939]\n",
            " [ 25.2283  25.5533  29.9765 ... 113.0209 103.3639  84.2949]\n",
            " [ 26.2775  22.6137  40.4763 ... 113.3028 121.775  115.4228]\n",
            " ...\n",
            " [ 28.5502  36.212   45.0801 ...  24.1359  25.0927  26.0603]\n",
            " [ 38.4352  26.4733  23.2717 ...  28.1094  29.4683  30.0661]\n",
            " [ 50.2984  26.0773  24.0389 ...  49.6682  50.853   53.0377]]\n"
          ]
        }
      ]
    },
    {
      "cell_type": "code",
      "metadata": {
        "id": "D9YPwf9ysqWU"
      },
      "source": [
        "# Reshaping the dataset to flatten them. Remember that we always have to give a 4D array as input to CNNs\n",
        "\n",
        "X_train = X_train.reshape(X_train.shape[0], 32,32,1)\n",
        "X_test = X_test.reshape(X_test.shape[0], 32,32,1)"
      ],
      "execution_count": 67,
      "outputs": []
    },
    {
      "cell_type": "code",
      "metadata": {
        "id": "q_yUUTp_mUzB"
      },
      "source": [
        "# Normalize inputs from 0-255 to 0-1\n",
        "\n",
        "X_train = X_train / 255.0\n",
        "X_test = X_test / 255.0"
      ],
      "execution_count": 68,
      "outputs": []
    },
    {
      "cell_type": "code",
      "metadata": {
        "colab": {
          "base_uri": "https://localhost:8080/"
        },
        "id": "t7FSqOpamWkH",
        "outputId": "d7b6f089-02d6-4171-8633-d00e69639ec6"
      },
      "source": [
        "# New shape \n",
        "\n",
        "print('Training set:', X_train.shape, y_train.shape)\n",
        "print('Test set:', X_test.shape, y_test.shape)"
      ],
      "execution_count": 69,
      "outputs": [
        {
          "output_type": "stream",
          "name": "stdout",
          "text": [
            "Training set: (42000, 32, 32, 1) (42000,)\n",
            "Test set: (18000, 32, 32, 1) (18000,)\n"
          ]
        }
      ]
    },
    {
      "cell_type": "markdown",
      "metadata": {
        "id": "YP92jacue2TE"
      },
      "source": [
        "#### **Question 2: One-hot encode the labels in the target variable y_train and y_test (2 Marks)**"
      ]
    },
    {
      "cell_type": "code",
      "metadata": {
        "colab": {
          "base_uri": "https://localhost:8080/"
        },
        "id": "zL0lYER4sqWw",
        "outputId": "2183c7a6-e2fd-4e15-f007-8f63568f5510"
      },
      "source": [
        "#Write the function and appropriate variable name to one-hot encode the output\n",
        "\n",
        "y_train = to_categorical(y_train)\n",
        "y_test = to_categorical(y_test)\n",
        "\n",
        "#test labels\n",
        "y_test"
      ],
      "execution_count": 70,
      "outputs": [
        {
          "output_type": "execute_result",
          "data": {
            "text/plain": [
              "array([[0., 1., 0., ..., 0., 0., 0.],\n",
              "       [0., 0., 0., ..., 1., 0., 0.],\n",
              "       [0., 0., 1., ..., 0., 0., 0.],\n",
              "       ...,\n",
              "       [0., 0., 0., ..., 1., 0., 0.],\n",
              "       [0., 0., 0., ..., 0., 0., 1.],\n",
              "       [0., 0., 1., ..., 0., 0., 0.]], dtype=float32)"
            ]
          },
          "metadata": {},
          "execution_count": 70
        }
      ]
    },
    {
      "cell_type": "markdown",
      "metadata": {
        "id": "ViqPOTquCF76"
      },
      "source": [
        "- Notice that each entry of y_test is a one-hot encoded vector instead of a single label."
      ]
    },
    {
      "cell_type": "markdown",
      "metadata": {
        "id": "yH-gVrzuByNA"
      },
      "source": [
        "## **Model Building**\n",
        "\n",
        "Now that we have done data preprocessing, let's build a CNN model."
      ]
    },
    {
      "cell_type": "code",
      "metadata": {
        "id": "eaGr-3Noe2TF"
      },
      "source": [
        "#Fixing the seed for random number generators\n",
        "np.random.seed(42)\n",
        "import random\n",
        "random.seed(42)\n",
        "tf.random.set_seed(42)"
      ],
      "execution_count": 71,
      "outputs": []
    },
    {
      "cell_type": "markdown",
      "metadata": {
        "id": "UJDUoaEj1d6e"
      },
      "source": [
        "### **Model Architecture**\n",
        "- Write a function that returns a sequential model with the following architecture\n",
        " - First Convolutional layer with **16 filters and kernel size of 3x3**. Use the **'same' padding** and provide an **apt input shape**\n",
        " - Add a **LeakyRelu layer** with the **slope equal to 0.1**\n",
        " - Second Convolutional layer with **32 filters and kernel size of 3x3 with 'same' padding**\n",
        " - Another **LeakyRelu** with the **slope equal to 0.1**\n",
        " - A **max-pooling layer** with a **pool size of 2x2**\n",
        " - **Flatten** the output from the previous layer\n",
        " - Add a **dense layer with 32 nodes**\n",
        " - Add a **LeakyRelu layer with slope equal to 0.1**\n",
        " - Add the final **output layer with nodes equal to the number of classes** and **softmax activation**\n",
        " - Compile the model with the **categorical_crossentropy loss, adam optimizers (learning_rate = 0.001), and accuracy metric**. Do not fit the model here, just return the compiled model\n",
        "- Call the function and store the model in a new variable\n",
        "- Print the summary of the model.\n",
        "- Fit the model on the train data with a **validation split of 0.2, batch size = 32, verbose = 1, and 20 epochs**. Store the model building history to use later for visualization."
      ]
    },
    {
      "cell_type": "markdown",
      "metadata": {
        "id": "Uw8pZcNwe2TG"
      },
      "source": [
        "#### **Question 3: Build and train a CNN model as per the above mentioned architecture (10 Marks)**"
      ]
    },
    {
      "cell_type": "code",
      "metadata": {
        "id": "Cmi81Gr5sqW-"
      },
      "source": [
        "#Importing losses and optimizers modules\n",
        "from tensorflow.keras import losses\n",
        "from tensorflow.keras import optimizers\n",
        "\n",
        "#Define the function\n",
        "def cnn_model_1():\n",
        "    model = Sequential() \n",
        "    #Add layers as per the architecture mentioned above in the same sequence\n",
        "\n",
        "    # First Convolutional layer with 16 filters and kernel size of 3x3. Use the 'same' padding and provide an apt input shape\n",
        "    model.add(Conv2D(filters=16, kernel_size=(3, 3), padding='same',  input_shape=(32, 32, 1)))\n",
        "    \n",
        "    # Add a LeakyRelu layer with the slope equal to 0.1\n",
        "    model.add(LeakyReLU(0.1))\n",
        "\n",
        "    # Second Convolutional layer with 32 filters and kernel size of 3x3 with 'same' padding\n",
        "    model.add(Conv2D(filters=32, kernel_size=(3, 3), padding='same',))\n",
        "\n",
        "    # Another LeakyRelu with the slope equal to 0.1\n",
        "    model.add(LeakyReLU(0.1))\n",
        "\n",
        "    # A max-pooling layer with a pool size of 2x2\n",
        "    model.add(MaxPool2D(pool_size=(2, 2)))\n",
        "\n",
        "    # Flatten the output from the previous layer\n",
        "    model.add(Flatten())\n",
        "\n",
        "    # Add a dense layer with 32 nodes\n",
        "    model.add(Dense(32))\n",
        "\n",
        "    # Add a LeakyRelu layer with slope equal to 0.1\n",
        "    model.add(LeakyReLU(0.1))\n",
        "\n",
        "    # Add the final output layer with nodes equal to the number of classes and softmax activation\n",
        "    model.add(Dense(10, activation='softmax'))\n",
        "\n",
        "    #declare adam optimizer with learning rate of 0.001 \n",
        "    adam = optimizers.learning_rate = 0.001\n",
        "    \n",
        "    # Compile the model with the categorical_crossentropy loss, adam optimizers (learning_rate = 0.001), and accuracy metric\n",
        "    model.compile(loss = 'categorical_crossentropy', optimizer='adam', metrics=['accuracy'])\n",
        "    \n",
        "    return model"
      ],
      "execution_count": 72,
      "outputs": []
    },
    {
      "cell_type": "code",
      "metadata": {
        "id": "bGCUI_xsImnH"
      },
      "source": [
        "#Build the model\n",
        "model_1 = cnn_model_1()"
      ],
      "execution_count": 73,
      "outputs": []
    },
    {
      "cell_type": "code",
      "metadata": {
        "id": "ckJsLdmdQadZ",
        "colab": {
          "base_uri": "https://localhost:8080/"
        },
        "outputId": "f814ae08-7b34-41ef-8dde-da3ea490a11a"
      },
      "source": [
        "#Print the model summary\n",
        "model_1.summary()"
      ],
      "execution_count": 74,
      "outputs": [
        {
          "output_type": "stream",
          "name": "stdout",
          "text": [
            "Model: \"sequential_1\"\n",
            "_________________________________________________________________\n",
            " Layer (type)                Output Shape              Param #   \n",
            "=================================================================\n",
            " conv2d_4 (Conv2D)           (None, 32, 32, 16)        160       \n",
            "                                                                 \n",
            " leaky_re_lu_5 (LeakyReLU)   (None, 32, 32, 16)        0         \n",
            "                                                                 \n",
            " conv2d_5 (Conv2D)           (None, 32, 32, 32)        4640      \n",
            "                                                                 \n",
            " leaky_re_lu_6 (LeakyReLU)   (None, 32, 32, 32)        0         \n",
            "                                                                 \n",
            " max_pooling2d_2 (MaxPooling  (None, 16, 16, 32)       0         \n",
            " 2D)                                                             \n",
            "                                                                 \n",
            " flatten_1 (Flatten)         (None, 8192)              0         \n",
            "                                                                 \n",
            " dense_2 (Dense)             (None, 32)                262176    \n",
            "                                                                 \n",
            " leaky_re_lu_7 (LeakyReLU)   (None, 32)                0         \n",
            "                                                                 \n",
            " dense_3 (Dense)             (None, 10)                330       \n",
            "                                                                 \n",
            "=================================================================\n",
            "Total params: 267,306\n",
            "Trainable params: 267,306\n",
            "Non-trainable params: 0\n",
            "_________________________________________________________________\n"
          ]
        }
      ]
    },
    {
      "cell_type": "code",
      "metadata": {
        "id": "3Fy3Dif_zcCk",
        "colab": {
          "base_uri": "https://localhost:8080/"
        },
        "outputId": "3fd762a7-e73b-4b2e-e2f8-6e5aca65fcbc"
      },
      "source": [
        "# Fit the model\n",
        "#Fit the model on the train data with a validation split of 0.2, batch size = 32, verbose = 1, and 20 epochs. Store the model building history to use later for visualization.\n",
        "history_model_1 = model_1.fit(X_train, \n",
        "                    y_train,\n",
        "                    validation_split=0.2,\n",
        "                    batch_size = 32, \n",
        "                    epochs=20, \n",
        "                    verbose=1)"
      ],
      "execution_count": 75,
      "outputs": [
        {
          "output_type": "stream",
          "name": "stdout",
          "text": [
            "Epoch 1/20\n",
            "1050/1050 [==============================] - 11s 10ms/step - loss: 1.1848 - accuracy: 0.6056 - val_loss: 0.6384 - val_accuracy: 0.8144\n",
            "Epoch 2/20\n",
            "1050/1050 [==============================] - 10s 10ms/step - loss: 0.5331 - accuracy: 0.8476 - val_loss: 0.5002 - val_accuracy: 0.8615\n",
            "Epoch 3/20\n",
            "1050/1050 [==============================] - 10s 10ms/step - loss: 0.4414 - accuracy: 0.8721 - val_loss: 0.4985 - val_accuracy: 0.8558\n",
            "Epoch 4/20\n",
            "1050/1050 [==============================] - 11s 11ms/step - loss: 0.3877 - accuracy: 0.8865 - val_loss: 0.4486 - val_accuracy: 0.8762\n",
            "Epoch 5/20\n",
            "1050/1050 [==============================] - 10s 9ms/step - loss: 0.3448 - accuracy: 0.8971 - val_loss: 0.4690 - val_accuracy: 0.8690\n",
            "Epoch 6/20\n",
            "1050/1050 [==============================] - 10s 10ms/step - loss: 0.3068 - accuracy: 0.9096 - val_loss: 0.4568 - val_accuracy: 0.8760\n",
            "Epoch 7/20\n",
            "1050/1050 [==============================] - 10s 10ms/step - loss: 0.2754 - accuracy: 0.9171 - val_loss: 0.4623 - val_accuracy: 0.8760\n",
            "Epoch 8/20\n",
            "1050/1050 [==============================] - 10s 9ms/step - loss: 0.2495 - accuracy: 0.9232 - val_loss: 0.4897 - val_accuracy: 0.8711\n",
            "Epoch 9/20\n",
            "1050/1050 [==============================] - 10s 10ms/step - loss: 0.2281 - accuracy: 0.9296 - val_loss: 0.5049 - val_accuracy: 0.8721\n",
            "Epoch 10/20\n",
            "1050/1050 [==============================] - 10s 9ms/step - loss: 0.1999 - accuracy: 0.9401 - val_loss: 0.5043 - val_accuracy: 0.8755\n",
            "Epoch 11/20\n",
            "1050/1050 [==============================] - 10s 9ms/step - loss: 0.1838 - accuracy: 0.9426 - val_loss: 0.5707 - val_accuracy: 0.8676\n",
            "Epoch 12/20\n",
            "1050/1050 [==============================] - 10s 10ms/step - loss: 0.1633 - accuracy: 0.9480 - val_loss: 0.5832 - val_accuracy: 0.8680\n",
            "Epoch 13/20\n",
            "1050/1050 [==============================] - 10s 9ms/step - loss: 0.1496 - accuracy: 0.9531 - val_loss: 0.6158 - val_accuracy: 0.8675\n",
            "Epoch 14/20\n",
            "1050/1050 [==============================] - 10s 10ms/step - loss: 0.1338 - accuracy: 0.9580 - val_loss: 0.6245 - val_accuracy: 0.8625\n",
            "Epoch 15/20\n",
            "1050/1050 [==============================] - 10s 9ms/step - loss: 0.1231 - accuracy: 0.9608 - val_loss: 0.6411 - val_accuracy: 0.8668\n",
            "Epoch 16/20\n",
            "1050/1050 [==============================] - 10s 9ms/step - loss: 0.1084 - accuracy: 0.9658 - val_loss: 0.6802 - val_accuracy: 0.8717\n",
            "Epoch 17/20\n",
            "1050/1050 [==============================] - 10s 10ms/step - loss: 0.1028 - accuracy: 0.9668 - val_loss: 0.7015 - val_accuracy: 0.8720\n",
            "Epoch 18/20\n",
            "1050/1050 [==============================] - 10s 10ms/step - loss: 0.0934 - accuracy: 0.9695 - val_loss: 0.7154 - val_accuracy: 0.8724\n",
            "Epoch 19/20\n",
            "1050/1050 [==============================] - 10s 10ms/step - loss: 0.0837 - accuracy: 0.9721 - val_loss: 0.8269 - val_accuracy: 0.8590\n",
            "Epoch 20/20\n",
            "1050/1050 [==============================] - 10s 10ms/step - loss: 0.0788 - accuracy: 0.9742 - val_loss: 0.8320 - val_accuracy: 0.8681\n"
          ]
        }
      ]
    },
    {
      "cell_type": "markdown",
      "metadata": {
        "id": "tKOckG-KPyLg"
      },
      "source": [
        "### **Plotting the validation and training accuracies**"
      ]
    },
    {
      "cell_type": "markdown",
      "metadata": {
        "id": "sVyQ9Gpge2TI"
      },
      "source": [
        "#### **Question 4: Write your observations on the below plot (2 Marks)**"
      ]
    },
    {
      "cell_type": "code",
      "metadata": {
        "colab": {
          "base_uri": "https://localhost:8080/",
          "height": 497
        },
        "id": "lt77zgGMP4yw",
        "outputId": "837047a1-9ffc-4ef0-f7b4-090733bcdbf4"
      },
      "source": [
        "# plotting the accuracies\n",
        "\n",
        "dict_hist = history_model_1.history\n",
        "list_ep = [i for i in range(1,21)]\n",
        "\n",
        "plt.figure(figsize = (8,8))\n",
        "plt.plot(list_ep,dict_hist['accuracy'],ls = '--', label = 'accuracy')\n",
        "plt.plot(list_ep,dict_hist['val_accuracy'],ls = '--', label = 'val_accuracy')\n",
        "plt.ylabel('Accuracy')\n",
        "plt.xlabel('Epochs')\n",
        "plt.legend()\n",
        "plt.show()"
      ],
      "execution_count": 76,
      "outputs": [
        {
          "output_type": "display_data",
          "data": {
            "image/png": "[encoded data removed]",
            "text/plain": [
              "<Figure size 576x576 with 1 Axes>"
            ]
          },
          "metadata": {
            "needs_background": "light"
          }
        }
      ]
    },
    {
      "cell_type": "code",
      "source": [
        "# plotting the accuracies (Portfolio Formatting, SMALLER IMAGE)\n",
        "\n",
        "dict_hist = history_model_1.history\n",
        "list_ep = [i for i in range(1,21)]\n",
        "\n",
        "plt.figure(figsize = (5,4))\n",
        "plt.figure(facecolor = 'white')\n",
        "plt.plot(list_ep,dict_hist['accuracy'],ls = '--', label = 'trn_accuracy')\n",
        "plt.plot(list_ep,dict_hist['val_accuracy'],ls = '--', label = 'val_accuracy')\n",
        "plt.title('CNN Model 1')\n",
        "plt.ylabel('Accuracy')\n",
        "plt.xlabel('Epochs')\n",
        "plt.legend()\n",
        "plt.show()"
      ],
      "metadata": {
        "colab": {
          "base_uri": "https://localhost:8080/",
          "height": 312
        },
        "id": "9sDYr-F2ErvC",
        "outputId": "bb486302-9ea0-47fa-bff8-b50cf95e8338"
      },
      "execution_count": 77,
      "outputs": [
        {
          "output_type": "display_data",
          "data": {
            "text/plain": [
              "<Figure size 360x288 with 0 Axes>"
            ]
          },
          "metadata": {}
        },
        {
          "output_type": "display_data",
          "data": {
            "image/png": "[encoded data removed]",
            "text/plain": [
              "<Figure size 432x288 with 1 Axes>"
            ]
          },
          "metadata": {}
        }
      ]
    },
    {
      "cell_type": "markdown",
      "metadata": {
        "id": "pGBbQpLONX7k"
      },
      "source": [
        "\n",
        "\n",
        "```\n",
        "# This is formatted as code\n",
        "```\n",
        "\n",
        "**Observations:\n",
        "*  The model is overfitting the data and needs improvement as the validation set is achieving an accuracy of only around 87% as compared to the training data accuracy of around 97%"
      ]
    },
    {
      "cell_type": "markdown",
      "metadata": {
        "id": "z0qgLMBZm5-K"
      },
      "source": [
        "Let's build another model and see if we can get a better model with generalized performance.\n",
        "\n",
        "First, we need to clear the previous model's history from the keras backend. Also, let's fix the seed again after clearing the backend."
      ]
    },
    {
      "cell_type": "code",
      "metadata": {
        "id": "y98BpLxsok_H"
      },
      "source": [
        "#Clearing backend\n",
        "from tensorflow.keras import backend\n",
        "backend.clear_session()"
      ],
      "execution_count": 78,
      "outputs": []
    },
    {
      "cell_type": "code",
      "metadata": {
        "id": "HbKi93HTolGW"
      },
      "source": [
        "#Fixing the seed for random number generators\n",
        "np.random.seed(42)\n",
        "import random\n",
        "random.seed(42)\n",
        "tf.random.set_seed(42)"
      ],
      "execution_count": 79,
      "outputs": []
    },
    {
      "cell_type": "markdown",
      "metadata": {
        "id": "lT6o3TIKuCtk"
      },
      "source": [
        "### **Second Model Architecture**\n",
        "- Write a function that returns a sequential model with the following architecture\n",
        " - First Convolutional layer with **16 filters and kernel size of 3x3**. Use the **'same' padding** and provide an **apt input shape**\n",
        " - Add a **LeakyRelu layer** with the **slope equal to 0.1**\n",
        " - Second Convolutional layer with **32 filters and kernel size of 3x3 with 'same' padding**\n",
        " - Add **LeakyRelu** with the **slope equal to 0.1**\n",
        " - Add a **max-pooling layer** with a **pool size of 2x2**\n",
        " - Add a **BatchNormalization layer**\n",
        " - Third Convolutional layer with **32 filters and kernel size of 3x3 with 'same' padding**\n",
        " - Add a **LeakyRelu layer with slope equal to 0.1**\n",
        " - Fourth Convolutional layer **64 filters and kernel size of 3x3 with 'same' padding** \n",
        " - Add a **LeakyRelu layer with slope equal to 0.1**\n",
        " - Add a **max-pooling layer** with a **pool size of 2x2**\n",
        " - Add a **BatchNormalization layer**\n",
        " - **Flatten** the output from the previous layer\n",
        " - Add a **dense layer with 32 nodes**\n",
        " - Add a **LeakyRelu layer with slope equal to 0.1**\n",
        " - Add a **dropout layer with rate equal to 0.5**\n",
        " - Add the final **output layer with nodes equal to the number of classes** and **softmax activation**\n",
        " - Compile the model with the **categorical_crossentropy loss, adam optimizers (learning_rate = 0.001), and accuracy metric**. Do not fit the model here, just return the compiled model\n",
        "- Call the function and store the model in a new variable\n",
        "- Print the summary of the model.\n",
        "- Fit the model on the train data with a **validation split of 0.2, batch size = 128, verbose = 1, and 30 epochs**. Store the model building history to use later for visualization."
      ]
    },
    {
      "cell_type": "markdown",
      "metadata": {
        "id": "Sr-bwBT2e2TJ"
      },
      "source": [
        "#### **Question 5: Build and train the second CNN model as per the above mentioned architecture (10 Marks)**"
      ]
    },
    {
      "cell_type": "code",
      "metadata": {
        "id": "EEPYLFIPnSDP"
      },
      "source": [
        "#Define the function\n",
        "def cnn_model_2():\n",
        "    model = Sequential() \n",
        "    #Add layers as per the architecture mentioned above in the same sequence\n",
        "    \n",
        "    # 1 - First Convolutional layer with 16 filters and kernel size of 3x3. Use the 'same' padding and provide an apt input shape\n",
        "    model.add(Conv2D(filters=16, kernel_size=(3, 3), padding='same',  input_shape=(32, 32, 1)))\n",
        "\n",
        "    # Add a LeakyRelu layer with the slope equal to 0.1\n",
        "    model.add(LeakyReLU(0.1))\n",
        "\n",
        "    # 2 - Second Convolutional layer with 32 filters and kernel size of 3x3 with 'same' padding\n",
        "    model.add(Conv2D(filters=32, kernel_size=(3, 3), padding='same',))\n",
        "    \n",
        "    # Another LeakyRelu with the slope equal to 0.1\n",
        "    model.add(LeakyReLU(0.1))\n",
        "\n",
        "    # Add a max-pooling layer with a pool size of 2x2\n",
        "    model.add(MaxPool2D(pool_size=(2, 2)))\n",
        "\n",
        "    # BatchNormalization layer\n",
        "    model.add(BatchNormalization())\n",
        "\n",
        "    # 3 - Third Convolutional layer with 32 filters and kernel size of 3x3 with 'same' padding\n",
        "    model.add(Conv2D(filters=32, kernel_size=(3, 3), padding='same',))\n",
        "\n",
        "    # Add a LeakyRelu layer with slope equal to 0.1\n",
        "    model.add(LeakyReLU(0.1))\n",
        "\n",
        "    # 4 - Fourth Convolutional layer 64 filters and kernel size of 3x3 with 'same' padding\n",
        "    model.add(Conv2D(filters=64, kernel_size=(3, 3), padding='same',))\n",
        "\n",
        "    # Add a LeakyRelu layer with slope equal to 0.1\n",
        "    model.add(LeakyReLU(0.1))\n",
        "\n",
        "    # Add a max-pooling layer with a pool size of 2x2\n",
        "    model.add(MaxPool2D(pool_size=(2, 2)))\n",
        "\n",
        "    # Add a BatchNormalization layer\n",
        "    model.add(BatchNormalization())\n",
        "\n",
        "    # Flatten the output from the previous layer\n",
        "    model.add(Flatten())\n",
        "\n",
        "    # Add a dense layer with 32 nodes\n",
        "    model.add(Dense(32))\n",
        "\n",
        "    # Add a LeakyRelu layer with slope equal to 0.1\n",
        "    model.add(LeakyReLU(0.1))\n",
        "    \n",
        "    # Add a dropout layer with rate equal to 0.5\n",
        "    model.add(Dropout(0.5))\n",
        "\n",
        "    # Add the final output layer with nodes equal to the number of classes and softmax activation\n",
        "    model.add(Dense(10, activation='softmax'))\n",
        "\n",
        "    #declare adam optimizer with learning rate of 0.001 \n",
        "    adam = optimizers.learning_rate = 0.001\n",
        "\n",
        "    #compile the model\n",
        "    model.compile(loss = 'categorical_crossentropy', optimizer='adam', metrics=['accuracy'])\n",
        "    \n",
        "    return model"
      ],
      "execution_count": 80,
      "outputs": []
    },
    {
      "cell_type": "code",
      "metadata": {
        "id": "AKjDY4plnSFl"
      },
      "source": [
        "# Build the model\n",
        "model_2 = cnn_model_2()"
      ],
      "execution_count": 81,
      "outputs": []
    },
    {
      "cell_type": "code",
      "metadata": {
        "id": "gz_6SVrU2swZ",
        "colab": {
          "base_uri": "https://localhost:8080/"
        },
        "outputId": "db06ed6d-4d61-47d8-ab51-bc25d798f5ae"
      },
      "source": [
        "#Print the summary\n",
        "model_2.summary()"
      ],
      "execution_count": 82,
      "outputs": [
        {
          "output_type": "stream",
          "name": "stdout",
          "text": [
            "Model: \"sequential\"\n",
            "_________________________________________________________________\n",
            " Layer (type)                Output Shape              Param #   \n",
            "=================================================================\n",
            " conv2d (Conv2D)             (None, 32, 32, 16)        160       \n",
            "                                                                 \n",
            " leaky_re_lu (LeakyReLU)     (None, 32, 32, 16)        0         \n",
            "                                                                 \n",
            " conv2d_1 (Conv2D)           (None, 32, 32, 32)        4640      \n",
            "                                                                 \n",
            " leaky_re_lu_1 (LeakyReLU)   (None, 32, 32, 32)        0         \n",
            "                                                                 \n",
            " max_pooling2d (MaxPooling2D  (None, 16, 16, 32)       0         \n",
            " )                                                               \n",
            "                                                                 \n",
            " batch_normalization (BatchN  (None, 16, 16, 32)       128       \n",
            " ormalization)                                                   \n",
            "                                                                 \n",
            " conv2d_2 (Conv2D)           (None, 16, 16, 32)        9248      \n",
            "                                                                 \n",
            " leaky_re_lu_2 (LeakyReLU)   (None, 16, 16, 32)        0         \n",
            "                                                                 \n",
            " conv2d_3 (Conv2D)           (None, 16, 16, 64)        18496     \n",
            "                                                                 \n",
            " leaky_re_lu_3 (LeakyReLU)   (None, 16, 16, 64)        0         \n",
            "                                                                 \n",
            " max_pooling2d_1 (MaxPooling  (None, 8, 8, 64)         0         \n",
            " 2D)                                                             \n",
            "                                                                 \n",
            " batch_normalization_1 (Batc  (None, 8, 8, 64)         256       \n",
            " hNormalization)                                                 \n",
            "                                                                 \n",
            " flatten (Flatten)           (None, 4096)              0         \n",
            "                                                                 \n",
            " dense (Dense)               (None, 32)                131104    \n",
            "                                                                 \n",
            " leaky_re_lu_4 (LeakyReLU)   (None, 32)                0         \n",
            "                                                                 \n",
            " dropout (Dropout)           (None, 32)                0         \n",
            "                                                                 \n",
            " dense_1 (Dense)             (None, 10)                330       \n",
            "                                                                 \n",
            "=================================================================\n",
            "Total params: 164,362\n",
            "Trainable params: 164,170\n",
            "Non-trainable params: 192\n",
            "_________________________________________________________________\n"
          ]
        }
      ]
    },
    {
      "cell_type": "code",
      "metadata": {
        "id": "IQ0Sc4R-y-uu",
        "colab": {
          "base_uri": "https://localhost:8080/"
        },
        "outputId": "06d9b5d7-8a33-455f-c01e-e1182c2a1497"
      },
      "source": [
        "# Fit the model on the train data with a validation split of 0.2, batch size = 128, verbose = 1, and 30 epochs\n",
        "history_model_2 = model_2.fit(X_train, \n",
        "                    y_train,\n",
        "                    validation_split=0.2,\n",
        "                    batch_size = 128, \n",
        "                    epochs=30, \n",
        "                    verbose=1)"
      ],
      "execution_count": 83,
      "outputs": [
        {
          "output_type": "stream",
          "name": "stdout",
          "text": [
            "Epoch 1/30\n",
            "263/263 [==============================] - 7s 23ms/step - loss: 1.4779 - accuracy: 0.4950 - val_loss: 2.6752 - val_accuracy: 0.1794\n",
            "Epoch 2/30\n",
            "263/263 [==============================] - 6s 21ms/step - loss: 0.6950 - accuracy: 0.7827 - val_loss: 0.6591 - val_accuracy: 0.8069\n",
            "Epoch 3/30\n",
            "263/263 [==============================] - 6s 21ms/step - loss: 0.5624 - accuracy: 0.8263 - val_loss: 0.4554 - val_accuracy: 0.8663\n",
            "Epoch 4/30\n",
            "263/263 [==============================] - 6s 21ms/step - loss: 0.5020 - accuracy: 0.8465 - val_loss: 0.4911 - val_accuracy: 0.8546\n",
            "Epoch 5/30\n",
            "263/263 [==============================] - 6s 21ms/step - loss: 0.4544 - accuracy: 0.8625 - val_loss: 0.3853 - val_accuracy: 0.8894\n",
            "Epoch 6/30\n",
            "263/263 [==============================] - 6s 22ms/step - loss: 0.4135 - accuracy: 0.8737 - val_loss: 0.4264 - val_accuracy: 0.8771\n",
            "Epoch 7/30\n",
            "263/263 [==============================] - 6s 22ms/step - loss: 0.3806 - accuracy: 0.8836 - val_loss: 0.4256 - val_accuracy: 0.8823\n",
            "Epoch 8/30\n",
            "263/263 [==============================] - 6s 21ms/step - loss: 0.3560 - accuracy: 0.8887 - val_loss: 0.3524 - val_accuracy: 0.9002\n",
            "Epoch 9/30\n",
            "263/263 [==============================] - 6s 21ms/step - loss: 0.3327 - accuracy: 0.8979 - val_loss: 0.3617 - val_accuracy: 0.8955\n",
            "Epoch 10/30\n",
            "263/263 [==============================] - 6s 22ms/step - loss: 0.3164 - accuracy: 0.8993 - val_loss: 0.3685 - val_accuracy: 0.8951\n",
            "Epoch 11/30\n",
            "263/263 [==============================] - 6s 22ms/step - loss: 0.3010 - accuracy: 0.9036 - val_loss: 0.4217 - val_accuracy: 0.9032\n",
            "Epoch 12/30\n",
            "263/263 [==============================] - 6s 21ms/step - loss: 0.2851 - accuracy: 0.9096 - val_loss: 0.3853 - val_accuracy: 0.9049\n",
            "Epoch 13/30\n",
            "263/263 [==============================] - 6s 21ms/step - loss: 0.2721 - accuracy: 0.9131 - val_loss: 0.3744 - val_accuracy: 0.9042\n",
            "Epoch 14/30\n",
            "263/263 [==============================] - 6s 21ms/step - loss: 0.2634 - accuracy: 0.9175 - val_loss: 0.4080 - val_accuracy: 0.9008\n",
            "Epoch 15/30\n",
            "263/263 [==============================] - 6s 22ms/step - loss: 0.2515 - accuracy: 0.9220 - val_loss: 0.4490 - val_accuracy: 0.8911\n",
            "Epoch 16/30\n",
            "263/263 [==============================] - 6s 22ms/step - loss: 0.2393 - accuracy: 0.9235 - val_loss: 0.3527 - val_accuracy: 0.9089\n",
            "Epoch 17/30\n",
            "263/263 [==============================] - 6s 22ms/step - loss: 0.2284 - accuracy: 0.9265 - val_loss: 0.3814 - val_accuracy: 0.9099\n",
            "Epoch 18/30\n",
            "263/263 [==============================] - 6s 21ms/step - loss: 0.2177 - accuracy: 0.9289 - val_loss: 0.3706 - val_accuracy: 0.9040\n",
            "Epoch 19/30\n",
            "263/263 [==============================] - 6s 21ms/step - loss: 0.2155 - accuracy: 0.9300 - val_loss: 0.4141 - val_accuracy: 0.9086\n",
            "Epoch 20/30\n",
            "263/263 [==============================] - 6s 21ms/step - loss: 0.2070 - accuracy: 0.9326 - val_loss: 0.4307 - val_accuracy: 0.8977\n",
            "Epoch 21/30\n",
            "263/263 [==============================] - 6s 22ms/step - loss: 0.1998 - accuracy: 0.9346 - val_loss: 0.4588 - val_accuracy: 0.8919\n",
            "Epoch 22/30\n",
            "263/263 [==============================] - 6s 22ms/step - loss: 0.1928 - accuracy: 0.9364 - val_loss: 0.3958 - val_accuracy: 0.9049\n",
            "Epoch 23/30\n",
            "263/263 [==============================] - 6s 22ms/step - loss: 0.1862 - accuracy: 0.9371 - val_loss: 0.4011 - val_accuracy: 0.9112\n",
            "Epoch 24/30\n",
            "263/263 [==============================] - 6s 21ms/step - loss: 0.1828 - accuracy: 0.9405 - val_loss: 0.4035 - val_accuracy: 0.9080\n",
            "Epoch 25/30\n",
            "263/263 [==============================] - 5s 21ms/step - loss: 0.1722 - accuracy: 0.9438 - val_loss: 0.4419 - val_accuracy: 0.9129\n",
            "Epoch 26/30\n",
            "263/263 [==============================] - 5s 21ms/step - loss: 0.1683 - accuracy: 0.9457 - val_loss: 0.4147 - val_accuracy: 0.9119\n",
            "Epoch 27/30\n",
            "263/263 [==============================] - 6s 22ms/step - loss: 0.1701 - accuracy: 0.9438 - val_loss: 0.4774 - val_accuracy: 0.9092\n",
            "Epoch 28/30\n",
            "263/263 [==============================] - 6s 21ms/step - loss: 0.1633 - accuracy: 0.9455 - val_loss: 0.5110 - val_accuracy: 0.9068\n",
            "Epoch 29/30\n",
            "263/263 [==============================] - 6s 22ms/step - loss: 0.1634 - accuracy: 0.9460 - val_loss: 0.4510 - val_accuracy: 0.9108\n",
            "Epoch 30/30\n",
            "263/263 [==============================] - 6s 21ms/step - loss: 0.1568 - accuracy: 0.9474 - val_loss: 0.4974 - val_accuracy: 0.9114\n"
          ]
        }
      ]
    },
    {
      "cell_type": "markdown",
      "metadata": {
        "id": "0_f1EXmTe2TK"
      },
      "source": [
        "### **Plotting the validation and training accuracies**"
      ]
    },
    {
      "cell_type": "markdown",
      "metadata": {
        "id": "aC5UbsqXe2TK"
      },
      "source": [
        "#### **Question 6: Write your observations on the below plot (2 Marks)**"
      ]
    },
    {
      "cell_type": "code",
      "metadata": {
        "colab": {
          "base_uri": "https://localhost:8080/",
          "height": 497
        },
        "id": "01ig6BrF1KVy",
        "outputId": "1ad2f580-7588-46fe-e80b-82b66f46c636"
      },
      "source": [
        "# plotting the accuracies\n",
        "\n",
        "dict_hist = history_model_2.history\n",
        "list_ep = [i for i in range(1,31)]\n",
        "\n",
        "plt.figure(figsize = (8,8))\n",
        "plt.plot(list_ep,dict_hist['accuracy'],ls = '--', label = 'accuracy')\n",
        "plt.plot(list_ep,dict_hist['val_accuracy'],ls = '--', label = 'val_accuracy')\n",
        "plt.ylabel('Accuracy')\n",
        "plt.xlabel('Epochs')\n",
        "plt.legend()\n",
        "plt.show()"
      ],
      "execution_count": 84,
      "outputs": [
        {
          "output_type": "display_data",
          "data": {
            "image/png": "[encoded data removed]",
            "text/plain": [
              "<Figure size 576x576 with 1 Axes>"
            ]
          },
          "metadata": {
            "needs_background": "light"
          }
        }
      ]
    },
    {
      "cell_type": "code",
      "source": [
        "# plotting the accuracies (Portfolio Formatting - SMALLER IMAGE)\n",
        "\n",
        "dict_hist = history_model_2.history\n",
        "list_ep = [i for i in range(1,31)]\n",
        "\n",
        "plt.figure(figsize = (5,4))\n",
        "plt.figure(facecolor = 'white')\n",
        "plt.plot(list_ep,dict_hist['accuracy'],ls = '--', label = 'trn_accuracy')\n",
        "plt.plot(list_ep,dict_hist['val_accuracy'],ls = '--', label = 'val_accuracy')\n",
        "plt.title('CNN Model 2')\n",
        "plt.ylabel('Accuracy')\n",
        "plt.xlabel('Epochs')\n",
        "plt.legend()\n",
        "plt.show()"
      ],
      "metadata": {
        "colab": {
          "base_uri": "https://localhost:8080/",
          "height": 312
        },
        "id": "xblYN5gnFIsJ",
        "outputId": "c3d42107-124f-44cf-ede7-2de20577033c"
      },
      "execution_count": 85,
      "outputs": [
        {
          "output_type": "display_data",
          "data": {
            "text/plain": [
              "<Figure size 360x288 with 0 Axes>"
            ]
          },
          "metadata": {}
        },
        {
          "output_type": "display_data",
          "data": {
            "image/png": "[encoded data removed]",
            "text/plain": [
              "<Figure size 432x288 with 1 Axes>"
            ]
          },
          "metadata": {}
        }
      ]
    },
    {
      "cell_type": "markdown",
      "metadata": {
        "id": "VPW1LlD61RDn"
      },
      "source": [
        "**Observations:\n",
        "* This model performs better on the validation set, increasing the accuracy from 87% to 90%\n",
        "* It is also less accurately fitting the training data (92% here vs. 97% previously), but this is at the expense of reducing overfitting which is evidenced by the fact that the accuracy for both the training and validation sets are closer."
      ]
    },
    {
      "cell_type": "markdown",
      "metadata": {
        "id": "8kuXx9Bvu00f"
      },
      "source": [
        "## **Predictions on the test data**\n",
        "\n",
        "- Make predictions on the test set using the second model\n",
        "- Print the obtained results using classification report and the confusion matrix\n",
        "- Final observations from the obtained results"
      ]
    },
    {
      "cell_type": "markdown",
      "metadata": {
        "id": "yfZwC9OUe2TL"
      },
      "source": [
        "#### **Question 7: Make predictions on the test data using the second model (1 Mark)**"
      ]
    },
    {
      "cell_type": "code",
      "metadata": {
        "id": "xbWMEtTj5Ad0"
      },
      "source": [
        "#Make prediction on the test data using model_2 \n",
        "test_pred = model_2.predict(X_test)\n",
        "\n",
        "test_pred = np.argmax(test_pred, axis=-1)"
      ],
      "execution_count": 86,
      "outputs": []
    },
    {
      "cell_type": "markdown",
      "metadata": {
        "id": "i3li8Ib08yts"
      },
      "source": [
        "**Note:** Earlier, we noticed that each entry of the test data is a one-hot encoded vector but to print the classification report and confusion matrix, we must convert each entry of y_test to a single label."
      ]
    },
    {
      "cell_type": "code",
      "metadata": {
        "id": "NByu7uAQ8x9P"
      },
      "source": [
        "#Converting each entry to single label from one-hot encoded vector\n",
        "y_test = np.argmax(y_test, axis=-1)"
      ],
      "execution_count": 87,
      "outputs": []
    },
    {
      "cell_type": "markdown",
      "metadata": {
        "id": "yHDUEma0e2TM"
      },
      "source": [
        "#### **Question 8: Write your final observations on the performance of the model on the test data (2 Marks)**"
      ]
    },
    {
      "cell_type": "code",
      "metadata": {
        "colab": {
          "base_uri": "https://localhost:8080/",
          "height": 629
        },
        "id": "xRddeJ-3EHT1",
        "outputId": "32a8ee7c-7a22-48e2-a3d1-01f4e93448f2"
      },
      "source": [
        "#importing required functions\n",
        "from sklearn.metrics import classification_report\n",
        "from sklearn.metrics import confusion_matrix\n",
        "\n",
        "#Printing the classification report\n",
        "print(classification_report(y_test, test_pred))\n",
        "\n",
        "#Plotting the heatmap using confusion matrix\n",
        "cm = confusion_matrix(y_test, test_pred)\n",
        "plt.figure(figsize=(8,5))\n",
        "sns.heatmap(cm, annot=True,  fmt='.0f')\n",
        "plt.ylabel('Actual')\n",
        "plt.xlabel('Predicted')\n",
        "plt.show()"
      ],
      "execution_count": 88,
      "outputs": [
        {
          "output_type": "stream",
          "name": "stdout",
          "text": [
            "              precision    recall  f1-score   support\n",
            "\n",
            "           0       0.93      0.94      0.93      1814\n",
            "           1       0.93      0.89      0.91      1828\n",
            "           2       0.94      0.92      0.93      1803\n",
            "           3       0.93      0.86      0.89      1719\n",
            "           4       0.93      0.92      0.92      1812\n",
            "           5       0.90      0.92      0.91      1768\n",
            "           6       0.89      0.91      0.90      1832\n",
            "           7       0.94      0.93      0.93      1808\n",
            "           8       0.85      0.92      0.88      1812\n",
            "           9       0.89      0.91      0.90      1804\n",
            "\n",
            "    accuracy                           0.91     18000\n",
            "   macro avg       0.91      0.91      0.91     18000\n",
            "weighted avg       0.91      0.91      0.91     18000\n",
            "\n"
          ]
        },
        {
          "output_type": "display_data",
          "data": {
            "image/png": "[encoded data removed]",
            "text/plain": [
              "<Figure size 576x360 with 2 Axes>"
            ]
          },
          "metadata": {
            "needs_background": "light"
          }
        }
      ]
    },
    {
      "cell_type": "code",
      "source": [
        "#For Portfolio....SMALLER IMAGE\n",
        "\n",
        "#Plotting the heatmap using confusion matrix\n",
        "cm = confusion_matrix(y_test, test_pred)\n",
        "plt.figure(figsize=(5,4))\n",
        "plt.figure(facecolor = 'white')\n",
        "sns.heatmap(cm, annot=True,  fmt='.0f')\n",
        "plt.title('CNN Model 2 Confusion Matrix')\n",
        "plt.ylabel('Actual')\n",
        "plt.xlabel('Predicted')\n",
        "plt.show()"
      ],
      "metadata": {
        "colab": {
          "base_uri": "https://localhost:8080/",
          "height": 312
        },
        "id": "jnMa7RgbHTr7",
        "outputId": "c2d480c0-173f-425d-9c61-1f15eab319e3"
      },
      "execution_count": 89,
      "outputs": [
        {
          "output_type": "display_data",
          "data": {
            "text/plain": [
              "<Figure size 360x288 with 0 Axes>"
            ]
          },
          "metadata": {}
        },
        {
          "output_type": "display_data",
          "data": {
            "image/png": "[encoded data removed]",
            "text/plain": [
              "<Figure size 432x288 with 2 Axes>"
            ]
          },
          "metadata": {}
        }
      ]
    },
    {
      "cell_type": "code",
      "source": [
        "#STUDENT ADDED - For Portfolio....Creating a Data Frame with Classification Report Results\n",
        "\n",
        "#Printing the classification report\n",
        "cr_cnn2 = pd.DataFrame(classification_report(y_test, test_pred, output_dict=True)).T\n",
        "cr_cnn2"
      ],
      "metadata": {
        "colab": {
          "base_uri": "https://localhost:8080/",
          "height": 457
        },
        "id": "FkxCtmGlHr4q",
        "outputId": "48bf0281-6c75-47a0-e85c-a579161eb40f"
      },
      "execution_count": 90,
      "outputs": [
        {
          "output_type": "execute_result",
          "data": {
            "text/html": [
              "\n",
              "  <div id=\"df-5b58e131-3708-439b-afc2-c4dfa250004f\">\n",
              "    <div class=\"colab-df-container\">\n",
              "      <div>\n",
              "<style scoped>\n",
              "    .dataframe tbody tr th:only-of-type {\n",
              "        vertical-align: middle;\n",
              "    }\n",
              "\n",
              "    .dataframe tbody tr th {\n",
              "        vertical-align: top;\n",
              "    }\n",
              "\n",
              "    .dataframe thead th {\n",
              "        text-align: right;\n",
              "    }\n",
              "</style>\n",
              "<table border=\"1\" class=\"dataframe\">\n",
              "  <thead>\n",
              "    <tr style=\"text-align: right;\">\n",
              "      <th></th>\n",
              "      <th>precision</th>\n",
              "      <th>recall</th>\n",
              "      <th>f1-score</th>\n",
              "      <th>support</th>\n",
              "    </tr>\n",
              "  </thead>\n",
              "  <tbody>\n",
              "    <tr>\n",
              "      <th>0</th>\n",
              "      <td>0.929194</td>\n",
              "      <td>0.940463</td>\n",
              "      <td>0.934795</td>\n",
              "      <td>1814.000000</td>\n",
              "    </tr>\n",
              "    <tr>\n",
              "      <th>1</th>\n",
              "      <td>0.925653</td>\n",
              "      <td>0.892232</td>\n",
              "      <td>0.908635</td>\n",
              "      <td>1828.000000</td>\n",
              "    </tr>\n",
              "    <tr>\n",
              "      <th>2</th>\n",
              "      <td>0.939018</td>\n",
              "      <td>0.922352</td>\n",
              "      <td>0.930610</td>\n",
              "      <td>1803.000000</td>\n",
              "    </tr>\n",
              "    <tr>\n",
              "      <th>3</th>\n",
              "      <td>0.930512</td>\n",
              "      <td>0.856894</td>\n",
              "      <td>0.892187</td>\n",
              "      <td>1719.000000</td>\n",
              "    </tr>\n",
              "    <tr>\n",
              "      <th>4</th>\n",
              "      <td>0.928931</td>\n",
              "      <td>0.916115</td>\n",
              "      <td>0.922478</td>\n",
              "      <td>1812.000000</td>\n",
              "    </tr>\n",
              "    <tr>\n",
              "      <th>5</th>\n",
              "      <td>0.896799</td>\n",
              "      <td>0.919118</td>\n",
              "      <td>0.907821</td>\n",
              "      <td>1768.000000</td>\n",
              "    </tr>\n",
              "    <tr>\n",
              "      <th>6</th>\n",
              "      <td>0.886339</td>\n",
              "      <td>0.906659</td>\n",
              "      <td>0.896384</td>\n",
              "      <td>1832.000000</td>\n",
              "    </tr>\n",
              "    <tr>\n",
              "      <th>7</th>\n",
              "      <td>0.939888</td>\n",
              "      <td>0.925332</td>\n",
              "      <td>0.932553</td>\n",
              "      <td>1808.000000</td>\n",
              "    </tr>\n",
              "    <tr>\n",
              "      <th>8</th>\n",
              "      <td>0.854199</td>\n",
              "      <td>0.915011</td>\n",
              "      <td>0.883560</td>\n",
              "      <td>1812.000000</td>\n",
              "    </tr>\n",
              "    <tr>\n",
              "      <th>9</th>\n",
              "      <td>0.886731</td>\n",
              "      <td>0.911308</td>\n",
              "      <td>0.898852</td>\n",
              "      <td>1804.000000</td>\n",
              "    </tr>\n",
              "    <tr>\n",
              "      <th>accuracy</th>\n",
              "      <td>0.910778</td>\n",
              "      <td>0.910778</td>\n",
              "      <td>0.910778</td>\n",
              "      <td>0.910778</td>\n",
              "    </tr>\n",
              "    <tr>\n",
              "      <th>macro avg</th>\n",
              "      <td>0.911726</td>\n",
              "      <td>0.910548</td>\n",
              "      <td>0.910787</td>\n",
              "      <td>18000.000000</td>\n",
              "    </tr>\n",
              "    <tr>\n",
              "      <th>weighted avg</th>\n",
              "      <td>0.911643</td>\n",
              "      <td>0.910778</td>\n",
              "      <td>0.910866</td>\n",
              "      <td>18000.000000</td>\n",
              "    </tr>\n",
              "  </tbody>\n",
              "</table>\n",
              "</div>\n",
              "      <button class=\"colab-df-convert\" onclick=\"convertToInteractive('df-5b58e131-3708-439b-afc2-c4dfa250004f')\"\n",
              "              title=\"Convert this dataframe to an interactive table.\"\n",
              "              style=\"display:none;\">\n",
              "        \n",
              "  <svg xmlns=\"http://www.w3.org/2000/svg\" height=\"24px\"viewBox=\"0 0 24 24\"\n",
              "       width=\"24px\">\n",
              "    <path d=\"M0 0h24v24H0V0z\" fill=\"none\"/>\n",
              "    <path d=\"M18.56 5.44l.94 2.06.94-2.06 2.06-.94-2.06-.94-.94-2.06-.94 2.06-2.06.94zm-11 1L8.5 8.5l.94-2.06 2.06-.94-2.06-.94L8.5 2.5l-.94 2.06-2.06.94zm10 10l.94 2.06.94-2.06 2.06-.94-2.06-.94-.94-2.06-.94 2.06-2.06.94z\"/><path d=\"M17.41 7.96l-1.37-1.37c-.4-.4-.92-.59-1.43-.59-.52 0-1.04.2-1.43.59L10.3 9.45l-7.72 7.72c-.78.78-.78 2.05 0 2.83L4 21.41c.39.39.9.59 1.41.59.51 0 1.02-.2 1.41-.59l7.78-7.78 2.81-2.81c.8-.78.8-2.07 0-2.86zM5.41 20L4 18.59l7.72-7.72 1.47 1.35L5.41 20z\"/>\n",
              "  </svg>\n",
              "      </button>\n",
              "      \n",
              "  <style>\n",
              "    .colab-df-container {\n",
              "      display:flex;\n",
              "      flex-wrap:wrap;\n",
              "      gap: 12px;\n",
              "    }\n",
              "\n",
              "    .colab-df-convert {\n",
              "      background-color: #E8F0FE;\n",
              "      border: none;\n",
              "      border-radius: 50%;\n",
              "      cursor: pointer;\n",
              "      display: none;\n",
              "      fill: #1967D2;\n",
              "      height: 32px;\n",
              "      padding: 0 0 0 0;\n",
              "      width: 32px;\n",
              "    }\n",
              "\n",
              "    .colab-df-convert:hover {\n",
              "      background-color: #E2EBFA;\n",
              "      box-shadow: 0px 1px 2px rgba(60, 64, 67, 0.3), 0px 1px 3px 1px rgba(60, 64, 67, 0.15);\n",
              "      fill: #174EA6;\n",
              "    }\n",
              "\n",
              "    [theme=dark] .colab-df-convert {\n",
              "      background-color: #3B4455;\n",
              "      fill: #D2E3FC;\n",
              "    }\n",
              "\n",
              "    [theme=dark] .colab-df-convert:hover {\n",
              "      background-color: #434B5C;\n",
              "      box-shadow: 0px 1px 3px 1px rgba(0, 0, 0, 0.15);\n",
              "      filter: drop-shadow(0px 1px 2px rgba(0, 0, 0, 0.3));\n",
              "      fill: #FFFFFF;\n",
              "    }\n",
              "  </style>\n",
              "\n",
              "      <script>\n",
              "        const buttonEl =\n",
              "          document.querySelector('#df-5b58e131-3708-439b-afc2-c4dfa250004f button.colab-df-convert');\n",
              "        buttonEl.style.display =\n",
              "          google.colab.kernel.accessAllowed ? 'block' : 'none';\n",
              "\n",
              "        async function convertToInteractive(key) {\n",
              "          const element = document.querySelector('#df-5b58e131-3708-439b-afc2-c4dfa250004f');\n",
              "          const dataTable =\n",
              "            await google.colab.kernel.invokeFunction('convertToInteractive',\n",
              "                                                     [key], {});\n",
              "          if (!dataTable) return;\n",
              "\n",
              "          const docLinkHtml = 'Like what you see? Visit the ' +\n",
              "            '<a target=\"_blank\" href=https://colab.research.google.com/notebooks/data_table.ipynb>data table notebook</a>'\n",
              "            + ' to learn more about interactive tables.';\n",
              "          element.innerHTML = '';\n",
              "          dataTable['output_type'] = 'display_data';\n",
              "          await google.colab.output.renderOutput(dataTable, element);\n",
              "          const docLink = document.createElement('div');\n",
              "          docLink.innerHTML = docLinkHtml;\n",
              "          element.appendChild(docLink);\n",
              "        }\n",
              "      </script>\n",
              "    </div>\n",
              "  </div>\n",
              "  "
            ],
            "text/plain": [
              "              precision    recall  f1-score       support\n",
              "0              0.929194  0.940463  0.934795   1814.000000\n",
              "1              0.925653  0.892232  0.908635   1828.000000\n",
              "2              0.939018  0.922352  0.930610   1803.000000\n",
              "3              0.930512  0.856894  0.892187   1719.000000\n",
              "4              0.928931  0.916115  0.922478   1812.000000\n",
              "5              0.896799  0.919118  0.907821   1768.000000\n",
              "6              0.886339  0.906659  0.896384   1832.000000\n",
              "7              0.939888  0.925332  0.932553   1808.000000\n",
              "8              0.854199  0.915011  0.883560   1812.000000\n",
              "9              0.886731  0.911308  0.898852   1804.000000\n",
              "accuracy       0.910778  0.910778  0.910778      0.910778\n",
              "macro avg      0.911726  0.910548  0.910787  18000.000000\n",
              "weighted avg   0.911643  0.910778  0.910866  18000.000000"
            ]
          },
          "metadata": {},
          "execution_count": 90
        }
      ]
    },
    {
      "cell_type": "code",
      "source": [
        "#STUDENT ADDED - For Portfolio, creating plots of Classification Report Scores\n",
        "plt.figure(figsize=(15,4)).patch.set_facecolor('white')\n",
        "\n",
        "plt.subplot(1,3,1, facecolor = 'white', frameon=True)\n",
        "plt.plot(cr_cnn2.index[0:10], cr_cnn2.precision.iloc[0:10])\n",
        "plt.title('CNN2 - Precision Values')\n",
        "plt.xlabel('Digit')\n",
        "\n",
        "plt.subplot(1,3,2, facecolor = 'white', sharey = plt.subplot(1,3,1, facecolor = 'white', frameon=True))\n",
        "plt.plot(cr_cnn2.index[0:10], cr_cnn2.recall.iloc[0:10])\n",
        "plt.title('CNN2 - Recall Values')\n",
        "plt.xlabel('Digit')\n",
        "\n",
        "plt.subplot(1,3,3, facecolor = 'white', sharey = plt.subplot(1,3,1, facecolor = 'white', frameon=True))\n",
        "plt.plot(cr_cnn2.index[0:10], cr_cnn2['f1-score'].iloc[0:10])\n",
        "plt.title('CNN2 - F1-Score Values')\n",
        "plt.xlabel('Digit')"
      ],
      "metadata": {
        "colab": {
          "base_uri": "https://localhost:8080/",
          "height": 402
        },
        "id": "dKvFXecj_8lM",
        "outputId": "34ab185d-e82f-4075-85d3-b76a55b7ff97"
      },
      "execution_count": 101,
      "outputs": [
        {
          "output_type": "stream",
          "name": "stderr",
          "text": [
            "/usr/local/lib/python3.7/dist-packages/ipykernel_launcher.py:9: MatplotlibDeprecationWarning: Adding an axes using the same arguments as a previous axes currently reuses the earlier instance.  In a future version, a new instance will always be created and returned.  Meanwhile, this warning can be suppressed, and the future behavior ensured, by passing a unique label to each axes instance.\n",
            "  if __name__ == '__main__':\n",
            "/usr/local/lib/python3.7/dist-packages/ipykernel_launcher.py:14: MatplotlibDeprecationWarning: Adding an axes using the same arguments as a previous axes currently reuses the earlier instance.  In a future version, a new instance will always be created and returned.  Meanwhile, this warning can be suppressed, and the future behavior ensured, by passing a unique label to each axes instance.\n",
            "  \n"
          ]
        },
        {
          "output_type": "execute_result",
          "data": {
            "text/plain": [
              "Text(0.5, 0, 'Digit')"
            ]
          },
          "metadata": {},
          "execution_count": 101
        },
        {
          "output_type": "display_data",
          "data": {
            "image/png": "[encoded data removed]",
            "text/plain": [
              "<Figure size 1080x288 with 3 Axes>"
            ]
          },
          "metadata": {}
        }
      ]
    },
    {
      "cell_type": "markdown",
      "metadata": {
        "id": "DjErl4GA2u9s"
      },
      "source": [
        "#### Observations (Rewritten based on \"Student-Added\" sections above):\n",
        "It should be noted that in the course of multiple model runs, the results tend to change noticeably.  This is not explored here, and it should be understood that the observations described below are specific to the last completed run.\n",
        "* Drawing conclusions from the confusion matrix is difficult as there are different numbers of images for each digit.  This means that when comparing the different types of errors, they would need to first be normalized to draw accurate conclusions.  For a high-level review of this model, it's most useful to examine the precision, recall, and F1-score values from the classification report.  In this context, recall values can be best interpreted as the percentage of a particular category of image that was correctly identified. The precision values qualitatively represent how carefully the model classifies each image and quantitatively represents the percentage of predictions for a particular digit (category) that are correct.  In some cases, it can be seen that the digit categories with relatively low recalls have high precisions, meaning that the model correctly classifies a smaller percentage of that type of image, but does so with relatively fewer false positives.  In such a case a classification for such a number has a higher chance of being correct.\n",
        "* The F1-score is hybridized metric which considers trade-off between the precision and recall, and is the best metric to examine for this model.  The F1-score would produce a lower value for digits which are identified at a high percentage but for which the predictions for that category are correct smaller percentage of the time.  Above, the number 3 is correctly identified only about 86% of the time, however, when the model predicts that an image is the number 3, it is correct about 93% of the time.  Thus, the F1 score for the number 3 is in-between these values at 89% in consideration of the implications of both precision and recall.\n",
        "* From the prior training and validation accuracies, this model could be further refined to reduce the overfitting.  Perhaps adding another dropout earlier in the process would be helpful in reducing overfitting, though other techniques can be employed.\n",
        "* The test data accuracy for the second CNN model of 89.8% was very close to that predicted by its validation data accuracy of 89.7%.\n"
      ]
    }
  ]
}